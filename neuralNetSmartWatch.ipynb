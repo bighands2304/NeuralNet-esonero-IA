{
 "cells": [
  {
   "cell_type": "markdown",
   "source": [
    "Come esempio applicativo ho deciso di portare un progetto che avevo in mente di realizzare da un pò:\n",
    "ho scaricato, tramite samsung health, i dati relativi ai passi giornalieri registrati tramite lo smartwatch.\n",
    "i dati sono forniti sotto forma di csv, ogni riga rappresenta una giornata e tramite il numero di passi (count),\n",
    "la velocità (speed) e la distanza percorsa (distance), stimeremo le calorie bruciate (calorie)."
   ],
   "metadata": {
    "collapsed": false,
    "pycharm": {
     "name": "#%% md\n"
    }
   }
  },
  {
   "cell_type": "markdown",
   "source": [
    "Importiamo inanzitutto pandas per la lettura del file .csv e leggiamo il file precedentemente scaricato."
   ],
   "metadata": {
    "collapsed": false,
    "pycharm": {
     "name": "#%% md\n"
    }
   }
  },
  {
   "cell_type": "code",
   "execution_count": 1,
   "outputs": [],
   "source": [
    "import pandas as pd"
   ],
   "metadata": {
    "collapsed": false,
    "pycharm": {
     "name": "#%%\n"
    }
   }
  },
  {
   "cell_type": "code",
   "execution_count": 2,
   "outputs": [
    {
     "name": "stderr",
     "output_type": "stream",
     "text": [
      "e:\\studio\\elis\\machine learning\\.venv\\lib\\site-packages\\IPython\\core\\interactiveshell.py:3251: FutureWarning: In a future version of pandas all arguments of read_csv except for the argument 'filepath_or_buffer' will be keyword-only\n",
      "  exec(code_obj, self.user_global_ns, self.user_ns)\n"
     ]
    }
   ],
   "source": [
    "df = pd.read_csv('data/samsunghealth_bighands2304_202206251605/com.samsung.shealth.step_daily_trend.202206251605.csv', \";\")"
   ],
   "metadata": {
    "collapsed": false,
    "pycharm": {
     "name": "#%%\n"
    }
   }
  },
  {
   "cell_type": "code",
   "execution_count": 3,
   "outputs": [
    {
     "data": {
      "text/plain": "                                          binning_data  \\\n0    9cf03a1c-d638-4faa-b759-e2345420975e.binning_d...   \n1    d1480535-b30e-466e-a184-35b7d2e9f5b8.binning_d...   \n2    1b5ee2d6-3470-45ea-bcd5-6b855c92a1e2.binning_d...   \n3    c1cf2832-d2d2-4253-b67f-668c05cde6e4.binning_d...   \n4    0cc58a44-77f1-4f46-8112-9acba5ba8448.binning_d...   \n..                                                 ...   \n234  1511e645-3931-4c2d-a751-700c22f38039.binning_d...   \n235  7e26d6c2-ac3a-4006-bfb3-d0fc8fca71b2.binning_d...   \n236  1252d98f-a4ab-4121-b0c1-8b28d25c0a69.binning_d...   \n237  0dd577f3-67c3-42a8-81ec-18eb1e8e5cc7.binning_d...   \n238  e8afe2ea-88b0-43ca-85bb-cd3623742610.binning_d...   \n\n                 update_time              create_time  \\\n0    2022-04-07 05:45:02.459  2022-04-06 05:46:08.801   \n1    2022-04-05 22:00:01.377  2022-04-05 22:00:01.377   \n2    2022-04-08 05:50:59.278  2022-04-07 05:45:01.836   \n3    2022-04-06 22:00:02.100  2022-04-06 22:00:02.100   \n4    2022-04-05 21:55:15.755  2022-04-05 09:16:32.831   \n..                       ...                      ...   \n234  2022-06-20 22:00:04.238  2022-06-20 22:00:04.238   \n235  2022-06-21 22:00:02.232  2022-06-21 22:00:02.232   \n236  2022-06-23 22:00:03.640  2022-06-23 22:00:03.640   \n237  2022-06-22 22:00:02.716  2022-06-22 22:00:02.716   \n238  2022-06-24 22:00:02.608  2022-06-24 22:00:02.608   \n\n                 source_pkg_name  source_type  count       speed     distance  \\\n0    com.sec.android.app.shealth           -2  16935  15194901.0  13688429.00   \n1    com.sec.android.app.shealth            0   1927  13485849.0      1491.03   \n2    com.sec.android.app.shealth           -2   8954  13479526.0   6842947.00   \n3    com.sec.android.app.shealth            0  16680  15208892.0     13502.43   \n4    com.sec.android.app.shealth           -2   1927  13485849.0      1491.03   \n..                           ...          ...    ...         ...          ...   \n234  com.sec.android.app.shealth            0   9832  13466885.0  75465303.00   \n235  com.sec.android.app.shealth            0   9766  13310779.0  74718604.00   \n236  com.sec.android.app.shealth            0   7552   1346408.0      5789.77   \n237  com.sec.android.app.shealth            0  15158   1524111.0  12440279.00   \n238  com.sec.android.app.shealth            0  11105  13766971.0      8555.21   \n\n         calorie  deviceuuid                     pkg_name  \\\n0    75698004.00  VfS0qUERdZ  com.sec.android.app.shealth   \n1     8095999.00  3JD7PDJoKB  com.sec.android.app.shealth   \n2    36939014.00  VfS0qUERdZ  com.sec.android.app.shealth   \n3     7476099.00  3JD7PDJoKB  com.sec.android.app.shealth   \n4     8095999.00  VfS0qUERdZ  com.sec.android.app.shealth   \n..           ...         ...                          ...   \n234  39821997.00  3JD7PDJoKB  com.sec.android.app.shealth   \n235  39503998.00  3JD7PDJoKB  com.sec.android.app.shealth   \n236       306.18  3JD7PDJoKB  com.sec.android.app.shealth   \n237       695.35  3JD7PDJoKB  com.sec.android.app.shealth   \n238  44932996.00  3JD7PDJoKB  com.sec.android.app.shealth   \n\n                                 datauuid     day_time  \n0    9cf03a1c-d638-4faa-b759-e2345420975e   1,6492E+12  \n1    d1480535-b30e-466e-a184-35b7d2e9f5b8  1,64912E+12  \n2    1b5ee2d6-3470-45ea-bcd5-6b855c92a1e2  1,64929E+12  \n3    c1cf2832-d2d2-4253-b67f-668c05cde6e4   1,6492E+12  \n4    0cc58a44-77f1-4f46-8112-9acba5ba8448  1,64912E+12  \n..                                    ...          ...  \n234  1511e645-3931-4c2d-a751-700c22f38039  1,65568E+12  \n235  7e26d6c2-ac3a-4006-bfb3-d0fc8fca71b2  1,65577E+12  \n236  1252d98f-a4ab-4121-b0c1-8b28d25c0a69  1,65594E+12  \n237  0dd577f3-67c3-42a8-81ec-18eb1e8e5cc7  1,65586E+12  \n238  e8afe2ea-88b0-43ca-85bb-cd3623742610  1,65603E+12  \n\n[239 rows x 13 columns]",
      "text/html": "<div>\n<style scoped>\n    .dataframe tbody tr th:only-of-type {\n        vertical-align: middle;\n    }\n\n    .dataframe tbody tr th {\n        vertical-align: top;\n    }\n\n    .dataframe thead th {\n        text-align: right;\n    }\n</style>\n<table border=\"1\" class=\"dataframe\">\n  <thead>\n    <tr style=\"text-align: right;\">\n      <th></th>\n      <th>binning_data</th>\n      <th>update_time</th>\n      <th>create_time</th>\n      <th>source_pkg_name</th>\n      <th>source_type</th>\n      <th>count</th>\n      <th>speed</th>\n      <th>distance</th>\n      <th>calorie</th>\n      <th>deviceuuid</th>\n      <th>pkg_name</th>\n      <th>datauuid</th>\n      <th>day_time</th>\n    </tr>\n  </thead>\n  <tbody>\n    <tr>\n      <th>0</th>\n      <td>9cf03a1c-d638-4faa-b759-e2345420975e.binning_d...</td>\n      <td>2022-04-07 05:45:02.459</td>\n      <td>2022-04-06 05:46:08.801</td>\n      <td>com.sec.android.app.shealth</td>\n      <td>-2</td>\n      <td>16935</td>\n      <td>15194901.0</td>\n      <td>13688429.00</td>\n      <td>75698004.00</td>\n      <td>VfS0qUERdZ</td>\n      <td>com.sec.android.app.shealth</td>\n      <td>9cf03a1c-d638-4faa-b759-e2345420975e</td>\n      <td>1,6492E+12</td>\n    </tr>\n    <tr>\n      <th>1</th>\n      <td>d1480535-b30e-466e-a184-35b7d2e9f5b8.binning_d...</td>\n      <td>2022-04-05 22:00:01.377</td>\n      <td>2022-04-05 22:00:01.377</td>\n      <td>com.sec.android.app.shealth</td>\n      <td>0</td>\n      <td>1927</td>\n      <td>13485849.0</td>\n      <td>1491.03</td>\n      <td>8095999.00</td>\n      <td>3JD7PDJoKB</td>\n      <td>com.sec.android.app.shealth</td>\n      <td>d1480535-b30e-466e-a184-35b7d2e9f5b8</td>\n      <td>1,64912E+12</td>\n    </tr>\n    <tr>\n      <th>2</th>\n      <td>1b5ee2d6-3470-45ea-bcd5-6b855c92a1e2.binning_d...</td>\n      <td>2022-04-08 05:50:59.278</td>\n      <td>2022-04-07 05:45:01.836</td>\n      <td>com.sec.android.app.shealth</td>\n      <td>-2</td>\n      <td>8954</td>\n      <td>13479526.0</td>\n      <td>6842947.00</td>\n      <td>36939014.00</td>\n      <td>VfS0qUERdZ</td>\n      <td>com.sec.android.app.shealth</td>\n      <td>1b5ee2d6-3470-45ea-bcd5-6b855c92a1e2</td>\n      <td>1,64929E+12</td>\n    </tr>\n    <tr>\n      <th>3</th>\n      <td>c1cf2832-d2d2-4253-b67f-668c05cde6e4.binning_d...</td>\n      <td>2022-04-06 22:00:02.100</td>\n      <td>2022-04-06 22:00:02.100</td>\n      <td>com.sec.android.app.shealth</td>\n      <td>0</td>\n      <td>16680</td>\n      <td>15208892.0</td>\n      <td>13502.43</td>\n      <td>7476099.00</td>\n      <td>3JD7PDJoKB</td>\n      <td>com.sec.android.app.shealth</td>\n      <td>c1cf2832-d2d2-4253-b67f-668c05cde6e4</td>\n      <td>1,6492E+12</td>\n    </tr>\n    <tr>\n      <th>4</th>\n      <td>0cc58a44-77f1-4f46-8112-9acba5ba8448.binning_d...</td>\n      <td>2022-04-05 21:55:15.755</td>\n      <td>2022-04-05 09:16:32.831</td>\n      <td>com.sec.android.app.shealth</td>\n      <td>-2</td>\n      <td>1927</td>\n      <td>13485849.0</td>\n      <td>1491.03</td>\n      <td>8095999.00</td>\n      <td>VfS0qUERdZ</td>\n      <td>com.sec.android.app.shealth</td>\n      <td>0cc58a44-77f1-4f46-8112-9acba5ba8448</td>\n      <td>1,64912E+12</td>\n    </tr>\n    <tr>\n      <th>...</th>\n      <td>...</td>\n      <td>...</td>\n      <td>...</td>\n      <td>...</td>\n      <td>...</td>\n      <td>...</td>\n      <td>...</td>\n      <td>...</td>\n      <td>...</td>\n      <td>...</td>\n      <td>...</td>\n      <td>...</td>\n      <td>...</td>\n    </tr>\n    <tr>\n      <th>234</th>\n      <td>1511e645-3931-4c2d-a751-700c22f38039.binning_d...</td>\n      <td>2022-06-20 22:00:04.238</td>\n      <td>2022-06-20 22:00:04.238</td>\n      <td>com.sec.android.app.shealth</td>\n      <td>0</td>\n      <td>9832</td>\n      <td>13466885.0</td>\n      <td>75465303.00</td>\n      <td>39821997.00</td>\n      <td>3JD7PDJoKB</td>\n      <td>com.sec.android.app.shealth</td>\n      <td>1511e645-3931-4c2d-a751-700c22f38039</td>\n      <td>1,65568E+12</td>\n    </tr>\n    <tr>\n      <th>235</th>\n      <td>7e26d6c2-ac3a-4006-bfb3-d0fc8fca71b2.binning_d...</td>\n      <td>2022-06-21 22:00:02.232</td>\n      <td>2022-06-21 22:00:02.232</td>\n      <td>com.sec.android.app.shealth</td>\n      <td>0</td>\n      <td>9766</td>\n      <td>13310779.0</td>\n      <td>74718604.00</td>\n      <td>39503998.00</td>\n      <td>3JD7PDJoKB</td>\n      <td>com.sec.android.app.shealth</td>\n      <td>7e26d6c2-ac3a-4006-bfb3-d0fc8fca71b2</td>\n      <td>1,65577E+12</td>\n    </tr>\n    <tr>\n      <th>236</th>\n      <td>1252d98f-a4ab-4121-b0c1-8b28d25c0a69.binning_d...</td>\n      <td>2022-06-23 22:00:03.640</td>\n      <td>2022-06-23 22:00:03.640</td>\n      <td>com.sec.android.app.shealth</td>\n      <td>0</td>\n      <td>7552</td>\n      <td>1346408.0</td>\n      <td>5789.77</td>\n      <td>306.18</td>\n      <td>3JD7PDJoKB</td>\n      <td>com.sec.android.app.shealth</td>\n      <td>1252d98f-a4ab-4121-b0c1-8b28d25c0a69</td>\n      <td>1,65594E+12</td>\n    </tr>\n    <tr>\n      <th>237</th>\n      <td>0dd577f3-67c3-42a8-81ec-18eb1e8e5cc7.binning_d...</td>\n      <td>2022-06-22 22:00:02.716</td>\n      <td>2022-06-22 22:00:02.716</td>\n      <td>com.sec.android.app.shealth</td>\n      <td>0</td>\n      <td>15158</td>\n      <td>1524111.0</td>\n      <td>12440279.00</td>\n      <td>695.35</td>\n      <td>3JD7PDJoKB</td>\n      <td>com.sec.android.app.shealth</td>\n      <td>0dd577f3-67c3-42a8-81ec-18eb1e8e5cc7</td>\n      <td>1,65586E+12</td>\n    </tr>\n    <tr>\n      <th>238</th>\n      <td>e8afe2ea-88b0-43ca-85bb-cd3623742610.binning_d...</td>\n      <td>2022-06-24 22:00:02.608</td>\n      <td>2022-06-24 22:00:02.608</td>\n      <td>com.sec.android.app.shealth</td>\n      <td>0</td>\n      <td>11105</td>\n      <td>13766971.0</td>\n      <td>8555.21</td>\n      <td>44932996.00</td>\n      <td>3JD7PDJoKB</td>\n      <td>com.sec.android.app.shealth</td>\n      <td>e8afe2ea-88b0-43ca-85bb-cd3623742610</td>\n      <td>1,65603E+12</td>\n    </tr>\n  </tbody>\n</table>\n<p>239 rows × 13 columns</p>\n</div>"
     },
     "execution_count": 3,
     "metadata": {},
     "output_type": "execute_result"
    }
   ],
   "source": [
    "df"
   ],
   "metadata": {
    "collapsed": false,
    "pycharm": {
     "name": "#%%\n"
    }
   }
  },
  {
   "cell_type": "code",
   "execution_count": 4,
   "outputs": [],
   "source": [
    "dataset = df"
   ],
   "metadata": {
    "collapsed": false,
    "pycharm": {
     "name": "#%%\n"
    }
   }
  },
  {
   "cell_type": "code",
   "execution_count": 5,
   "outputs": [
    {
     "data": {
      "text/plain": "                                          binning_data  \\\n0    9cf03a1c-d638-4faa-b759-e2345420975e.binning_d...   \n1    d1480535-b30e-466e-a184-35b7d2e9f5b8.binning_d...   \n2    1b5ee2d6-3470-45ea-bcd5-6b855c92a1e2.binning_d...   \n3    c1cf2832-d2d2-4253-b67f-668c05cde6e4.binning_d...   \n4    0cc58a44-77f1-4f46-8112-9acba5ba8448.binning_d...   \n..                                                 ...   \n234  1511e645-3931-4c2d-a751-700c22f38039.binning_d...   \n235  7e26d6c2-ac3a-4006-bfb3-d0fc8fca71b2.binning_d...   \n236  1252d98f-a4ab-4121-b0c1-8b28d25c0a69.binning_d...   \n237  0dd577f3-67c3-42a8-81ec-18eb1e8e5cc7.binning_d...   \n238  e8afe2ea-88b0-43ca-85bb-cd3623742610.binning_d...   \n\n                 update_time              create_time  \\\n0    2022-04-07 05:45:02.459  2022-04-06 05:46:08.801   \n1    2022-04-05 22:00:01.377  2022-04-05 22:00:01.377   \n2    2022-04-08 05:50:59.278  2022-04-07 05:45:01.836   \n3    2022-04-06 22:00:02.100  2022-04-06 22:00:02.100   \n4    2022-04-05 21:55:15.755  2022-04-05 09:16:32.831   \n..                       ...                      ...   \n234  2022-06-20 22:00:04.238  2022-06-20 22:00:04.238   \n235  2022-06-21 22:00:02.232  2022-06-21 22:00:02.232   \n236  2022-06-23 22:00:03.640  2022-06-23 22:00:03.640   \n237  2022-06-22 22:00:02.716  2022-06-22 22:00:02.716   \n238  2022-06-24 22:00:02.608  2022-06-24 22:00:02.608   \n\n                 source_pkg_name  source_type  count       speed     distance  \\\n0    com.sec.android.app.shealth           -2  16935  15194901.0  13688429.00   \n1    com.sec.android.app.shealth            0   1927  13485849.0      1491.03   \n2    com.sec.android.app.shealth           -2   8954  13479526.0   6842947.00   \n3    com.sec.android.app.shealth            0  16680  15208892.0     13502.43   \n4    com.sec.android.app.shealth           -2   1927  13485849.0      1491.03   \n..                           ...          ...    ...         ...          ...   \n234  com.sec.android.app.shealth            0   9832  13466885.0  75465303.00   \n235  com.sec.android.app.shealth            0   9766  13310779.0  74718604.00   \n236  com.sec.android.app.shealth            0   7552   1346408.0      5789.77   \n237  com.sec.android.app.shealth            0  15158   1524111.0  12440279.00   \n238  com.sec.android.app.shealth            0  11105  13766971.0      8555.21   \n\n         calorie  deviceuuid                     pkg_name  \\\n0    75698004.00  VfS0qUERdZ  com.sec.android.app.shealth   \n1     8095999.00  3JD7PDJoKB  com.sec.android.app.shealth   \n2    36939014.00  VfS0qUERdZ  com.sec.android.app.shealth   \n3     7476099.00  3JD7PDJoKB  com.sec.android.app.shealth   \n4     8095999.00  VfS0qUERdZ  com.sec.android.app.shealth   \n..           ...         ...                          ...   \n234  39821997.00  3JD7PDJoKB  com.sec.android.app.shealth   \n235  39503998.00  3JD7PDJoKB  com.sec.android.app.shealth   \n236       306.18  3JD7PDJoKB  com.sec.android.app.shealth   \n237       695.35  3JD7PDJoKB  com.sec.android.app.shealth   \n238  44932996.00  3JD7PDJoKB  com.sec.android.app.shealth   \n\n                                 datauuid     day_time  \n0    9cf03a1c-d638-4faa-b759-e2345420975e   1,6492E+12  \n1    d1480535-b30e-466e-a184-35b7d2e9f5b8  1,64912E+12  \n2    1b5ee2d6-3470-45ea-bcd5-6b855c92a1e2  1,64929E+12  \n3    c1cf2832-d2d2-4253-b67f-668c05cde6e4   1,6492E+12  \n4    0cc58a44-77f1-4f46-8112-9acba5ba8448  1,64912E+12  \n..                                    ...          ...  \n234  1511e645-3931-4c2d-a751-700c22f38039  1,65568E+12  \n235  7e26d6c2-ac3a-4006-bfb3-d0fc8fca71b2  1,65577E+12  \n236  1252d98f-a4ab-4121-b0c1-8b28d25c0a69  1,65594E+12  \n237  0dd577f3-67c3-42a8-81ec-18eb1e8e5cc7  1,65586E+12  \n238  e8afe2ea-88b0-43ca-85bb-cd3623742610  1,65603E+12  \n\n[239 rows x 13 columns]",
      "text/html": "<div>\n<style scoped>\n    .dataframe tbody tr th:only-of-type {\n        vertical-align: middle;\n    }\n\n    .dataframe tbody tr th {\n        vertical-align: top;\n    }\n\n    .dataframe thead th {\n        text-align: right;\n    }\n</style>\n<table border=\"1\" class=\"dataframe\">\n  <thead>\n    <tr style=\"text-align: right;\">\n      <th></th>\n      <th>binning_data</th>\n      <th>update_time</th>\n      <th>create_time</th>\n      <th>source_pkg_name</th>\n      <th>source_type</th>\n      <th>count</th>\n      <th>speed</th>\n      <th>distance</th>\n      <th>calorie</th>\n      <th>deviceuuid</th>\n      <th>pkg_name</th>\n      <th>datauuid</th>\n      <th>day_time</th>\n    </tr>\n  </thead>\n  <tbody>\n    <tr>\n      <th>0</th>\n      <td>9cf03a1c-d638-4faa-b759-e2345420975e.binning_d...</td>\n      <td>2022-04-07 05:45:02.459</td>\n      <td>2022-04-06 05:46:08.801</td>\n      <td>com.sec.android.app.shealth</td>\n      <td>-2</td>\n      <td>16935</td>\n      <td>15194901.0</td>\n      <td>13688429.00</td>\n      <td>75698004.00</td>\n      <td>VfS0qUERdZ</td>\n      <td>com.sec.android.app.shealth</td>\n      <td>9cf03a1c-d638-4faa-b759-e2345420975e</td>\n      <td>1,6492E+12</td>\n    </tr>\n    <tr>\n      <th>1</th>\n      <td>d1480535-b30e-466e-a184-35b7d2e9f5b8.binning_d...</td>\n      <td>2022-04-05 22:00:01.377</td>\n      <td>2022-04-05 22:00:01.377</td>\n      <td>com.sec.android.app.shealth</td>\n      <td>0</td>\n      <td>1927</td>\n      <td>13485849.0</td>\n      <td>1491.03</td>\n      <td>8095999.00</td>\n      <td>3JD7PDJoKB</td>\n      <td>com.sec.android.app.shealth</td>\n      <td>d1480535-b30e-466e-a184-35b7d2e9f5b8</td>\n      <td>1,64912E+12</td>\n    </tr>\n    <tr>\n      <th>2</th>\n      <td>1b5ee2d6-3470-45ea-bcd5-6b855c92a1e2.binning_d...</td>\n      <td>2022-04-08 05:50:59.278</td>\n      <td>2022-04-07 05:45:01.836</td>\n      <td>com.sec.android.app.shealth</td>\n      <td>-2</td>\n      <td>8954</td>\n      <td>13479526.0</td>\n      <td>6842947.00</td>\n      <td>36939014.00</td>\n      <td>VfS0qUERdZ</td>\n      <td>com.sec.android.app.shealth</td>\n      <td>1b5ee2d6-3470-45ea-bcd5-6b855c92a1e2</td>\n      <td>1,64929E+12</td>\n    </tr>\n    <tr>\n      <th>3</th>\n      <td>c1cf2832-d2d2-4253-b67f-668c05cde6e4.binning_d...</td>\n      <td>2022-04-06 22:00:02.100</td>\n      <td>2022-04-06 22:00:02.100</td>\n      <td>com.sec.android.app.shealth</td>\n      <td>0</td>\n      <td>16680</td>\n      <td>15208892.0</td>\n      <td>13502.43</td>\n      <td>7476099.00</td>\n      <td>3JD7PDJoKB</td>\n      <td>com.sec.android.app.shealth</td>\n      <td>c1cf2832-d2d2-4253-b67f-668c05cde6e4</td>\n      <td>1,6492E+12</td>\n    </tr>\n    <tr>\n      <th>4</th>\n      <td>0cc58a44-77f1-4f46-8112-9acba5ba8448.binning_d...</td>\n      <td>2022-04-05 21:55:15.755</td>\n      <td>2022-04-05 09:16:32.831</td>\n      <td>com.sec.android.app.shealth</td>\n      <td>-2</td>\n      <td>1927</td>\n      <td>13485849.0</td>\n      <td>1491.03</td>\n      <td>8095999.00</td>\n      <td>VfS0qUERdZ</td>\n      <td>com.sec.android.app.shealth</td>\n      <td>0cc58a44-77f1-4f46-8112-9acba5ba8448</td>\n      <td>1,64912E+12</td>\n    </tr>\n    <tr>\n      <th>...</th>\n      <td>...</td>\n      <td>...</td>\n      <td>...</td>\n      <td>...</td>\n      <td>...</td>\n      <td>...</td>\n      <td>...</td>\n      <td>...</td>\n      <td>...</td>\n      <td>...</td>\n      <td>...</td>\n      <td>...</td>\n      <td>...</td>\n    </tr>\n    <tr>\n      <th>234</th>\n      <td>1511e645-3931-4c2d-a751-700c22f38039.binning_d...</td>\n      <td>2022-06-20 22:00:04.238</td>\n      <td>2022-06-20 22:00:04.238</td>\n      <td>com.sec.android.app.shealth</td>\n      <td>0</td>\n      <td>9832</td>\n      <td>13466885.0</td>\n      <td>75465303.00</td>\n      <td>39821997.00</td>\n      <td>3JD7PDJoKB</td>\n      <td>com.sec.android.app.shealth</td>\n      <td>1511e645-3931-4c2d-a751-700c22f38039</td>\n      <td>1,65568E+12</td>\n    </tr>\n    <tr>\n      <th>235</th>\n      <td>7e26d6c2-ac3a-4006-bfb3-d0fc8fca71b2.binning_d...</td>\n      <td>2022-06-21 22:00:02.232</td>\n      <td>2022-06-21 22:00:02.232</td>\n      <td>com.sec.android.app.shealth</td>\n      <td>0</td>\n      <td>9766</td>\n      <td>13310779.0</td>\n      <td>74718604.00</td>\n      <td>39503998.00</td>\n      <td>3JD7PDJoKB</td>\n      <td>com.sec.android.app.shealth</td>\n      <td>7e26d6c2-ac3a-4006-bfb3-d0fc8fca71b2</td>\n      <td>1,65577E+12</td>\n    </tr>\n    <tr>\n      <th>236</th>\n      <td>1252d98f-a4ab-4121-b0c1-8b28d25c0a69.binning_d...</td>\n      <td>2022-06-23 22:00:03.640</td>\n      <td>2022-06-23 22:00:03.640</td>\n      <td>com.sec.android.app.shealth</td>\n      <td>0</td>\n      <td>7552</td>\n      <td>1346408.0</td>\n      <td>5789.77</td>\n      <td>306.18</td>\n      <td>3JD7PDJoKB</td>\n      <td>com.sec.android.app.shealth</td>\n      <td>1252d98f-a4ab-4121-b0c1-8b28d25c0a69</td>\n      <td>1,65594E+12</td>\n    </tr>\n    <tr>\n      <th>237</th>\n      <td>0dd577f3-67c3-42a8-81ec-18eb1e8e5cc7.binning_d...</td>\n      <td>2022-06-22 22:00:02.716</td>\n      <td>2022-06-22 22:00:02.716</td>\n      <td>com.sec.android.app.shealth</td>\n      <td>0</td>\n      <td>15158</td>\n      <td>1524111.0</td>\n      <td>12440279.00</td>\n      <td>695.35</td>\n      <td>3JD7PDJoKB</td>\n      <td>com.sec.android.app.shealth</td>\n      <td>0dd577f3-67c3-42a8-81ec-18eb1e8e5cc7</td>\n      <td>1,65586E+12</td>\n    </tr>\n    <tr>\n      <th>238</th>\n      <td>e8afe2ea-88b0-43ca-85bb-cd3623742610.binning_d...</td>\n      <td>2022-06-24 22:00:02.608</td>\n      <td>2022-06-24 22:00:02.608</td>\n      <td>com.sec.android.app.shealth</td>\n      <td>0</td>\n      <td>11105</td>\n      <td>13766971.0</td>\n      <td>8555.21</td>\n      <td>44932996.00</td>\n      <td>3JD7PDJoKB</td>\n      <td>com.sec.android.app.shealth</td>\n      <td>e8afe2ea-88b0-43ca-85bb-cd3623742610</td>\n      <td>1,65603E+12</td>\n    </tr>\n  </tbody>\n</table>\n<p>239 rows × 13 columns</p>\n</div>"
     },
     "execution_count": 5,
     "metadata": {},
     "output_type": "execute_result"
    }
   ],
   "source": [
    "dataset"
   ],
   "metadata": {
    "collapsed": false,
    "pycharm": {
     "name": "#%%\n"
    }
   }
  },
  {
   "cell_type": "markdown",
   "source": [
    "Ora dividiamo il nostro dataset in dati di input (X, che comprende count,speed e distance) ed il dato che vogliamo prevedere (y, le calorie)."
   ],
   "metadata": {
    "collapsed": false,
    "pycharm": {
     "name": "#%% md\n"
    }
   }
  },
  {
   "cell_type": "code",
   "execution_count": 6,
   "outputs": [],
   "source": [
    "X = dataset[[\"count\", \"speed\", \"distance\"]]"
   ],
   "metadata": {
    "collapsed": false,
    "pycharm": {
     "name": "#%%\n"
    }
   }
  },
  {
   "cell_type": "code",
   "execution_count": 7,
   "outputs": [
    {
     "data": {
      "text/plain": "     count       speed     distance\n0    16935  15194901.0  13688429.00\n1     1927  13485849.0      1491.03\n2     8954  13479526.0   6842947.00\n3    16680  15208892.0     13502.43\n4     1927  13485849.0      1491.03\n..     ...         ...          ...\n234   9832  13466885.0  75465303.00\n235   9766  13310779.0  74718604.00\n236   7552   1346408.0      5789.77\n237  15158   1524111.0  12440279.00\n238  11105  13766971.0      8555.21\n\n[239 rows x 3 columns]",
      "text/html": "<div>\n<style scoped>\n    .dataframe tbody tr th:only-of-type {\n        vertical-align: middle;\n    }\n\n    .dataframe tbody tr th {\n        vertical-align: top;\n    }\n\n    .dataframe thead th {\n        text-align: right;\n    }\n</style>\n<table border=\"1\" class=\"dataframe\">\n  <thead>\n    <tr style=\"text-align: right;\">\n      <th></th>\n      <th>count</th>\n      <th>speed</th>\n      <th>distance</th>\n    </tr>\n  </thead>\n  <tbody>\n    <tr>\n      <th>0</th>\n      <td>16935</td>\n      <td>15194901.0</td>\n      <td>13688429.00</td>\n    </tr>\n    <tr>\n      <th>1</th>\n      <td>1927</td>\n      <td>13485849.0</td>\n      <td>1491.03</td>\n    </tr>\n    <tr>\n      <th>2</th>\n      <td>8954</td>\n      <td>13479526.0</td>\n      <td>6842947.00</td>\n    </tr>\n    <tr>\n      <th>3</th>\n      <td>16680</td>\n      <td>15208892.0</td>\n      <td>13502.43</td>\n    </tr>\n    <tr>\n      <th>4</th>\n      <td>1927</td>\n      <td>13485849.0</td>\n      <td>1491.03</td>\n    </tr>\n    <tr>\n      <th>...</th>\n      <td>...</td>\n      <td>...</td>\n      <td>...</td>\n    </tr>\n    <tr>\n      <th>234</th>\n      <td>9832</td>\n      <td>13466885.0</td>\n      <td>75465303.00</td>\n    </tr>\n    <tr>\n      <th>235</th>\n      <td>9766</td>\n      <td>13310779.0</td>\n      <td>74718604.00</td>\n    </tr>\n    <tr>\n      <th>236</th>\n      <td>7552</td>\n      <td>1346408.0</td>\n      <td>5789.77</td>\n    </tr>\n    <tr>\n      <th>237</th>\n      <td>15158</td>\n      <td>1524111.0</td>\n      <td>12440279.00</td>\n    </tr>\n    <tr>\n      <th>238</th>\n      <td>11105</td>\n      <td>13766971.0</td>\n      <td>8555.21</td>\n    </tr>\n  </tbody>\n</table>\n<p>239 rows × 3 columns</p>\n</div>"
     },
     "execution_count": 7,
     "metadata": {},
     "output_type": "execute_result"
    }
   ],
   "source": [
    "X"
   ],
   "metadata": {
    "collapsed": false,
    "pycharm": {
     "name": "#%%\n"
    }
   }
  },
  {
   "cell_type": "code",
   "execution_count": 8,
   "outputs": [],
   "source": [
    "y = dataset[[\"calorie\"]]"
   ],
   "metadata": {
    "collapsed": false,
    "pycharm": {
     "name": "#%%\n"
    }
   }
  },
  {
   "cell_type": "code",
   "execution_count": 9,
   "outputs": [
    {
     "data": {
      "text/plain": "         calorie\n0    75698004.00\n1     8095999.00\n2    36939014.00\n3     7476099.00\n4     8095999.00\n..           ...\n234  39821997.00\n235  39503998.00\n236       306.18\n237       695.35\n238  44932996.00\n\n[239 rows x 1 columns]",
      "text/html": "<div>\n<style scoped>\n    .dataframe tbody tr th:only-of-type {\n        vertical-align: middle;\n    }\n\n    .dataframe tbody tr th {\n        vertical-align: top;\n    }\n\n    .dataframe thead th {\n        text-align: right;\n    }\n</style>\n<table border=\"1\" class=\"dataframe\">\n  <thead>\n    <tr style=\"text-align: right;\">\n      <th></th>\n      <th>calorie</th>\n    </tr>\n  </thead>\n  <tbody>\n    <tr>\n      <th>0</th>\n      <td>75698004.00</td>\n    </tr>\n    <tr>\n      <th>1</th>\n      <td>8095999.00</td>\n    </tr>\n    <tr>\n      <th>2</th>\n      <td>36939014.00</td>\n    </tr>\n    <tr>\n      <th>3</th>\n      <td>7476099.00</td>\n    </tr>\n    <tr>\n      <th>4</th>\n      <td>8095999.00</td>\n    </tr>\n    <tr>\n      <th>...</th>\n      <td>...</td>\n    </tr>\n    <tr>\n      <th>234</th>\n      <td>39821997.00</td>\n    </tr>\n    <tr>\n      <th>235</th>\n      <td>39503998.00</td>\n    </tr>\n    <tr>\n      <th>236</th>\n      <td>306.18</td>\n    </tr>\n    <tr>\n      <th>237</th>\n      <td>695.35</td>\n    </tr>\n    <tr>\n      <th>238</th>\n      <td>44932996.00</td>\n    </tr>\n  </tbody>\n</table>\n<p>239 rows × 1 columns</p>\n</div>"
     },
     "execution_count": 9,
     "metadata": {},
     "output_type": "execute_result"
    }
   ],
   "source": [
    "y"
   ],
   "metadata": {
    "collapsed": false,
    "pycharm": {
     "name": "#%%\n"
    }
   }
  },
  {
   "cell_type": "markdown",
   "source": [
    "Tramite il min-max scaler, ridimensiono il dataset in modo che tutti i valori di input siano più simili possibili tra di loro."
   ],
   "metadata": {
    "collapsed": false,
    "pycharm": {
     "name": "#%% md\n"
    }
   }
  },
  {
   "cell_type": "code",
   "execution_count": 10,
   "outputs": [],
   "source": [
    "from sklearn import preprocessing\n",
    "min_max_scaler = preprocessing.MinMaxScaler()\n",
    "X_scale = min_max_scaler.fit_transform(X)"
   ],
   "metadata": {
    "collapsed": false,
    "pycharm": {
     "name": "#%%\n"
    }
   }
  },
  {
   "cell_type": "markdown",
   "source": [
    "L'ultimo passaggio nell'elaborazione dei dati, consiste nel suddividere il nostro dataset in un set di train, un set di validation e uno di test."
   ],
   "metadata": {
    "collapsed": false,
    "pycharm": {
     "name": "#%% md\n"
    }
   }
  },
  {
   "cell_type": "code",
   "execution_count": 11,
   "outputs": [],
   "source": [
    "from sklearn.model_selection import train_test_split"
   ],
   "metadata": {
    "collapsed": false,
    "pycharm": {
     "name": "#%%\n"
    }
   }
  },
  {
   "cell_type": "code",
   "execution_count": 12,
   "outputs": [],
   "source": [
    "X_train, X_val_and_test, y_train, y_val_and_test = train_test_split(X_scale, y, test_size=0.3)\n",
    "X_val, X_test, y_val, y_test = train_test_split(X_val_and_test, y_val_and_test, test_size=0.5)"
   ],
   "metadata": {
    "collapsed": false,
    "pycharm": {
     "name": "#%%\n"
    }
   }
  },
  {
   "cell_type": "code",
   "execution_count": 13,
   "outputs": [
    {
     "name": "stdout",
     "output_type": "stream",
     "text": [
      "(167, 3) (36, 3) (36, 3) (167, 1) (36, 1) (36, 1)\n"
     ]
    }
   ],
   "source": [
    "print(X_train.shape, X_val.shape, X_test.shape, y_train.shape, y_val.shape, y_test.shape)"
   ],
   "metadata": {
    "collapsed": false,
    "pycharm": {
     "name": "#%%\n"
    }
   }
  },
  {
   "cell_type": "markdown",
   "source": [
    "Adesso abbiamo sei variabili da poter utilizzare per la predizione divisi nel seguente modo:\n",
    "    X_train (70% del dataset)\n",
    "    X_val (15% del dataset)\n",
    "    X_test (15% del dataset)\n",
    "    Y_train (70% del dataset)\n",
    "    Y_val (15% del dataset)\n",
    "    Y_test (15% del dataset)"
   ],
   "metadata": {
    "collapsed": false,
    "pycharm": {
     "name": "#%% md\n"
    }
   }
  },
  {
   "cell_type": "markdown",
   "source": [
    "Sotto il punto 3 del pdf vi è lo schema della rete neurale che creeremo per stimare le calorie"
   ],
   "metadata": {
    "collapsed": false,
    "pycharm": {
     "name": "#%% md\n"
    }
   }
  },
  {
   "cell_type": "code",
   "execution_count": 14,
   "outputs": [],
   "source": [
    "from keras.models import Sequential\n",
    "from keras.layers import Dense"
   ],
   "metadata": {
    "collapsed": false,
    "pycharm": {
     "name": "#%%\n"
    }
   }
  },
  {
   "cell_type": "markdown",
   "source": [
    "Creiamo quindi un modello di tipo sequenziale, con layer di input composto da 3 nodi, 32 nodi per l'hidden layer ed 1 nodo come output."
   ],
   "metadata": {
    "collapsed": false,
    "pycharm": {
     "name": "#%% md\n"
    }
   }
  },
  {
   "cell_type": "code",
   "execution_count": 20,
   "outputs": [],
   "source": [
    "model = Sequential([\n",
    "    Dense(32, activation='linear', input_shape=(3,)),\n",
    "    Dense(1, activation='linear')\n",
    "])"
   ],
   "metadata": {
    "collapsed": false,
    "pycharm": {
     "name": "#%%\n"
    }
   }
  },
  {
   "cell_type": "markdown",
   "source": [
    "Prima di passare all'addestramento del modello, specifichiamo il tipo di algoritmo da utilizzare per l'ottimizazione e la funzione di perdita"
   ],
   "metadata": {
    "collapsed": false,
    "pycharm": {
     "name": "#%% md\n"
    }
   }
  },
  {
   "cell_type": "code",
   "execution_count": 21,
   "outputs": [],
   "source": [
    "model.compile(optimizer='adam',\n",
    "              loss='binary_crossentropy')"
   ],
   "metadata": {
    "collapsed": false,
    "pycharm": {
     "name": "#%%\n"
    }
   }
  },
  {
   "cell_type": "markdown",
   "source": [
    "Ora passiamo all'addestramento, basta specificare l' \"infornata\" ed il tempo di addestramento definito in epoche.\n",
    "Specifichiamo i dati per la convalida X_val e y_val in modo che il modello verifichi punto per punto la progressione dell'addestramento."
   ],
   "metadata": {
    "collapsed": false,
    "pycharm": {
     "name": "#%% md\n"
    }
   }
  },
  {
   "cell_type": "code",
   "execution_count": 22,
   "outputs": [
    {
     "name": "stdout",
     "output_type": "stream",
     "text": [
      "Epoch 1/100\n",
      "6/6 [==============================] - 2s 56ms/step - loss: 206946496.0000 - val_loss: 101057816.0000\n",
      "Epoch 2/100\n",
      "6/6 [==============================] - 0s 22ms/step - loss: 106223544.0000 - val_loss: 68184232.0000\n",
      "Epoch 3/100\n",
      "6/6 [==============================] - 0s 16ms/step - loss: 57268292.0000 - val_loss: 26369918.0000\n",
      "Epoch 4/100\n",
      "6/6 [==============================] - 0s 9ms/step - loss: 18279562.0000 - val_loss: 7540821.5000\n",
      "Epoch 5/100\n",
      "6/6 [==============================] - 0s 12ms/step - loss: 5183681.0000 - val_loss: -3326189.0000\n",
      "Epoch 6/100\n",
      "6/6 [==============================] - 0s 16ms/step - loss: -11028276.0000 - val_loss: -17238920.0000\n",
      "Epoch 7/100\n",
      "6/6 [==============================] - 0s 12ms/step - loss: -39239340.0000 - val_loss: -59288592.0000\n",
      "Epoch 8/100\n",
      "6/6 [==============================] - 0s 9ms/step - loss: -80989544.0000 - val_loss: -82631928.0000\n",
      "Epoch 9/100\n",
      "6/6 [==============================] - 0s 9ms/step - loss: -121760224.0000 - val_loss: -144656096.0000\n",
      "Epoch 10/100\n",
      "6/6 [==============================] - 0s 13ms/step - loss: -166591136.0000 - val_loss: -234056608.0000\n",
      "Epoch 11/100\n",
      "6/6 [==============================] - 0s 25ms/step - loss: -233770880.0000 - val_loss: -322207488.0000\n",
      "Epoch 12/100\n",
      "6/6 [==============================] - 0s 9ms/step - loss: -305402144.0000 - val_loss: -350377376.0000\n",
      "Epoch 13/100\n",
      "6/6 [==============================] - 0s 12ms/step - loss: -344401600.0000 - val_loss: -357279904.0000\n",
      "Epoch 14/100\n",
      "6/6 [==============================] - 0s 12ms/step - loss: -365239968.0000 - val_loss: -379124096.0000\n",
      "Epoch 15/100\n",
      "6/6 [==============================] - 0s 9ms/step - loss: -376800800.0000 - val_loss: -382278080.0000\n",
      "Epoch 16/100\n",
      "6/6 [==============================] - 0s 9ms/step - loss: -397389536.0000 - val_loss: -400913024.0000\n",
      "Epoch 17/100\n",
      "6/6 [==============================] - 0s 9ms/step - loss: -398676096.0000 - val_loss: -416878528.0000\n",
      "Epoch 18/100\n",
      "6/6 [==============================] - 0s 12ms/step - loss: -399210592.0000 - val_loss: -416878528.0000\n",
      "Epoch 19/100\n",
      "6/6 [==============================] - 0s 12ms/step - loss: -399235168.0000 - val_loss: -416878528.0000\n",
      "Epoch 20/100\n",
      "6/6 [==============================] - 0s 12ms/step - loss: -399250080.0000 - val_loss: -416878528.0000\n",
      "Epoch 21/100\n",
      "6/6 [==============================] - 0s 13ms/step - loss: -399255648.0000 - val_loss: -416878528.0000\n",
      "Epoch 22/100\n",
      "6/6 [==============================] - 0s 9ms/step - loss: -399261408.0000 - val_loss: -416878528.0000\n",
      "Epoch 23/100\n",
      "6/6 [==============================] - 0s 9ms/step - loss: -399265984.0000 - val_loss: -416878528.0000\n",
      "Epoch 24/100\n",
      "6/6 [==============================] - 0s 9ms/step - loss: -399268192.0000 - val_loss: -416878528.0000\n",
      "Epoch 25/100\n",
      "6/6 [==============================] - 0s 12ms/step - loss: -399269472.0000 - val_loss: -416878528.0000\n",
      "Epoch 26/100\n",
      "6/6 [==============================] - 0s 12ms/step - loss: -399271040.0000 - val_loss: -416878528.0000\n",
      "Epoch 27/100\n",
      "6/6 [==============================] - 0s 12ms/step - loss: -399273120.0000 - val_loss: -416878528.0000\n",
      "Epoch 28/100\n",
      "6/6 [==============================] - 0s 12ms/step - loss: -399273888.0000 - val_loss: -416878528.0000\n",
      "Epoch 29/100\n",
      "6/6 [==============================] - 0s 13ms/step - loss: -399276000.0000 - val_loss: -416878528.0000\n",
      "Epoch 30/100\n",
      "6/6 [==============================] - 0s 12ms/step - loss: -399277152.0000 - val_loss: -416878528.0000\n",
      "Epoch 31/100\n",
      "6/6 [==============================] - 0s 12ms/step - loss: -399278624.0000 - val_loss: -416878528.0000\n",
      "Epoch 32/100\n",
      "6/6 [==============================] - 0s 13ms/step - loss: -399280032.0000 - val_loss: -416878528.0000\n",
      "Epoch 33/100\n",
      "6/6 [==============================] - 0s 12ms/step - loss: -399282112.0000 - val_loss: -416878528.0000\n",
      "Epoch 34/100\n",
      "6/6 [==============================] - 0s 12ms/step - loss: -399283712.0000 - val_loss: -416878528.0000\n",
      "Epoch 35/100\n",
      "6/6 [==============================] - 0s 16ms/step - loss: -399284736.0000 - val_loss: -416878528.0000\n",
      "Epoch 36/100\n",
      "6/6 [==============================] - 0s 9ms/step - loss: -399287584.0000 - val_loss: -416878528.0000\n",
      "Epoch 37/100\n",
      "6/6 [==============================] - 0s 13ms/step - loss: -399289472.0000 - val_loss: -416878528.0000\n",
      "Epoch 38/100\n",
      "6/6 [==============================] - 0s 9ms/step - loss: -399290272.0000 - val_loss: -416878528.0000\n",
      "Epoch 39/100\n",
      "6/6 [==============================] - 0s 9ms/step - loss: -399293856.0000 - val_loss: -416878528.0000\n",
      "Epoch 40/100\n",
      "6/6 [==============================] - 0s 12ms/step - loss: -399295104.0000 - val_loss: -416878528.0000\n",
      "Epoch 41/100\n",
      "6/6 [==============================] - 0s 12ms/step - loss: -399297984.0000 - val_loss: -416878528.0000\n",
      "Epoch 42/100\n",
      "6/6 [==============================] - 0s 12ms/step - loss: -399301440.0000 - val_loss: -416878528.0000\n",
      "Epoch 43/100\n",
      "6/6 [==============================] - 0s 13ms/step - loss: -399304704.0000 - val_loss: -416878528.0000\n",
      "Epoch 44/100\n",
      "6/6 [==============================] - 0s 12ms/step - loss: -399305792.0000 - val_loss: -416878528.0000\n",
      "Epoch 45/100\n",
      "6/6 [==============================] - 0s 12ms/step - loss: -399309568.0000 - val_loss: -416878528.0000\n",
      "Epoch 46/100\n",
      "6/6 [==============================] - 0s 12ms/step - loss: -399314240.0000 - val_loss: -416878528.0000\n",
      "Epoch 47/100\n",
      "6/6 [==============================] - 0s 9ms/step - loss: -399317376.0000 - val_loss: -416878528.0000\n",
      "Epoch 48/100\n",
      "6/6 [==============================] - 0s 9ms/step - loss: -399321120.0000 - val_loss: -416878528.0000\n",
      "Epoch 49/100\n",
      "6/6 [==============================] - 0s 9ms/step - loss: -399325984.0000 - val_loss: -416878528.0000\n",
      "Epoch 50/100\n",
      "6/6 [==============================] - 0s 9ms/step - loss: -399333376.0000 - val_loss: -416878528.0000\n",
      "Epoch 51/100\n",
      "6/6 [==============================] - 0s 12ms/step - loss: -399338304.0000 - val_loss: -416878528.0000\n",
      "Epoch 52/100\n",
      "6/6 [==============================] - 0s 12ms/step - loss: -399344384.0000 - val_loss: -416878528.0000\n",
      "Epoch 53/100\n",
      "6/6 [==============================] - 0s 13ms/step - loss: -399351680.0000 - val_loss: -416878528.0000\n",
      "Epoch 54/100\n",
      "6/6 [==============================] - 0s 12ms/step - loss: -399360448.0000 - val_loss: -416878528.0000\n",
      "Epoch 55/100\n",
      "6/6 [==============================] - 0s 9ms/step - loss: -399364608.0000 - val_loss: -416878528.0000\n",
      "Epoch 56/100\n",
      "6/6 [==============================] - 0s 12ms/step - loss: -399383776.0000 - val_loss: -416878528.0000\n",
      "Epoch 57/100\n",
      "6/6 [==============================] - 0s 12ms/step - loss: -399405664.0000 - val_loss: -416878528.0000\n",
      "Epoch 58/100\n",
      "6/6 [==============================] - 0s 12ms/step - loss: -399434656.0000 - val_loss: -416878528.0000\n",
      "Epoch 59/100\n",
      "6/6 [==============================] - 0s 9ms/step - loss: -400039872.0000 - val_loss: -416878528.0000\n",
      "Epoch 60/100\n",
      "6/6 [==============================] - 0s 12ms/step - loss: -400436544.0000 - val_loss: -416878528.0000\n",
      "Epoch 61/100\n",
      "6/6 [==============================] - 0s 12ms/step - loss: -400436576.0000 - val_loss: -416878528.0000\n",
      "Epoch 62/100\n",
      "6/6 [==============================] - 0s 12ms/step - loss: -400436576.0000 - val_loss: -416878528.0000\n",
      "Epoch 63/100\n",
      "6/6 [==============================] - 0s 12ms/step - loss: -400436544.0000 - val_loss: -416878528.0000\n",
      "Epoch 64/100\n",
      "6/6 [==============================] - 0s 9ms/step - loss: -400436576.0000 - val_loss: -416878528.0000\n",
      "Epoch 65/100\n",
      "6/6 [==============================] - 0s 16ms/step - loss: -400436544.0000 - val_loss: -416878528.0000\n",
      "Epoch 66/100\n",
      "6/6 [==============================] - 0s 12ms/step - loss: -400436544.0000 - val_loss: -416878528.0000\n",
      "Epoch 67/100\n",
      "6/6 [==============================] - 0s 16ms/step - loss: -400436576.0000 - val_loss: -416878528.0000\n",
      "Epoch 68/100\n",
      "6/6 [==============================] - 0s 12ms/step - loss: -400436544.0000 - val_loss: -416878528.0000\n",
      "Epoch 69/100\n",
      "6/6 [==============================] - 0s 12ms/step - loss: -400436544.0000 - val_loss: -416878528.0000\n",
      "Epoch 70/100\n",
      "6/6 [==============================] - 0s 12ms/step - loss: -400436576.0000 - val_loss: -416878528.0000\n",
      "Epoch 71/100\n",
      "6/6 [==============================] - 0s 9ms/step - loss: -400436576.0000 - val_loss: -416878528.0000\n",
      "Epoch 72/100\n",
      "6/6 [==============================] - 0s 12ms/step - loss: -400436512.0000 - val_loss: -416878528.0000\n",
      "Epoch 73/100\n",
      "6/6 [==============================] - 0s 12ms/step - loss: -400436544.0000 - val_loss: -416878528.0000\n",
      "Epoch 74/100\n",
      "6/6 [==============================] - 0s 12ms/step - loss: -400436576.0000 - val_loss: -416878528.0000\n",
      "Epoch 75/100\n",
      "6/6 [==============================] - 0s 9ms/step - loss: -400436576.0000 - val_loss: -416878528.0000\n",
      "Epoch 76/100\n",
      "6/6 [==============================] - 0s 9ms/step - loss: -400436576.0000 - val_loss: -416878528.0000\n",
      "Epoch 77/100\n",
      "6/6 [==============================] - 0s 12ms/step - loss: -400436544.0000 - val_loss: -416878528.0000\n",
      "Epoch 78/100\n",
      "6/6 [==============================] - 0s 12ms/step - loss: -400436544.0000 - val_loss: -416878528.0000\n",
      "Epoch 79/100\n",
      "6/6 [==============================] - 0s 16ms/step - loss: -400436544.0000 - val_loss: -416878528.0000\n",
      "Epoch 80/100\n",
      "6/6 [==============================] - 0s 12ms/step - loss: -400436576.0000 - val_loss: -416878528.0000\n",
      "Epoch 81/100\n",
      "6/6 [==============================] - 0s 9ms/step - loss: -400436544.0000 - val_loss: -416878528.0000\n",
      "Epoch 82/100\n",
      "6/6 [==============================] - 0s 12ms/step - loss: -400436544.0000 - val_loss: -416878528.0000\n",
      "Epoch 83/100\n",
      "6/6 [==============================] - 0s 12ms/step - loss: -400436544.0000 - val_loss: -416878528.0000\n",
      "Epoch 84/100\n",
      "6/6 [==============================] - 0s 12ms/step - loss: -400436544.0000 - val_loss: -416878528.0000\n",
      "Epoch 85/100\n",
      "6/6 [==============================] - 0s 12ms/step - loss: -400436576.0000 - val_loss: -416878528.0000\n",
      "Epoch 86/100\n",
      "6/6 [==============================] - 0s 16ms/step - loss: -400436544.0000 - val_loss: -416878528.0000\n",
      "Epoch 87/100\n",
      "6/6 [==============================] - 0s 12ms/step - loss: -400436544.0000 - val_loss: -416878528.0000\n",
      "Epoch 88/100\n",
      "6/6 [==============================] - 0s 12ms/step - loss: -400436512.0000 - val_loss: -416878528.0000\n",
      "Epoch 89/100\n",
      "6/6 [==============================] - 0s 9ms/step - loss: -400436544.0000 - val_loss: -416878528.0000\n",
      "Epoch 90/100\n",
      "6/6 [==============================] - 0s 12ms/step - loss: -400436544.0000 - val_loss: -416878528.0000\n",
      "Epoch 91/100\n",
      "6/6 [==============================] - 0s 12ms/step - loss: -400436576.0000 - val_loss: -416878528.0000\n",
      "Epoch 92/100\n",
      "6/6 [==============================] - 0s 19ms/step - loss: -400436576.0000 - val_loss: -416878528.0000\n",
      "Epoch 93/100\n",
      "6/6 [==============================] - 0s 16ms/step - loss: -400436576.0000 - val_loss: -416878528.0000\n",
      "Epoch 94/100\n",
      "6/6 [==============================] - 0s 16ms/step - loss: -400436544.0000 - val_loss: -416878528.0000\n",
      "Epoch 95/100\n",
      "6/6 [==============================] - 0s 12ms/step - loss: -400436576.0000 - val_loss: -416878528.0000\n",
      "Epoch 96/100\n",
      "6/6 [==============================] - 0s 12ms/step - loss: -400436576.0000 - val_loss: -416878528.0000\n",
      "Epoch 97/100\n",
      "6/6 [==============================] - 0s 16ms/step - loss: -400436544.0000 - val_loss: -416878528.0000\n",
      "Epoch 98/100\n",
      "6/6 [==============================] - 0s 16ms/step - loss: -400436576.0000 - val_loss: -416878528.0000\n",
      "Epoch 99/100\n",
      "6/6 [==============================] - 0s 22ms/step - loss: -400436544.0000 - val_loss: -416878528.0000\n",
      "Epoch 100/100\n",
      "6/6 [==============================] - 0s 16ms/step - loss: -400436576.0000 - val_loss: -416878528.0000\n"
     ]
    }
   ],
   "source": [
    "hist= model.fit(X_train, y_train,\n",
    "          batch_size=32, epochs=100,\n",
    "          validation_data=(X_val, y_val))"
   ],
   "metadata": {
    "collapsed": false,
    "pycharm": {
     "name": "#%%\n"
    }
   }
  },
  {
   "cell_type": "markdown",
   "source": [
    "Infine vogliamo visualizzare il training loss ed il validation loss e lo facciamo con un plot"
   ],
   "metadata": {
    "collapsed": false,
    "pycharm": {
     "name": "#%% md\n"
    }
   }
  },
  {
   "cell_type": "code",
   "execution_count": 23,
   "outputs": [],
   "source": [
    "import matplotlib.pyplot as plt"
   ],
   "metadata": {
    "collapsed": false,
    "pycharm": {
     "name": "#%%\n"
    }
   }
  },
  {
   "cell_type": "code",
   "execution_count": 24,
   "outputs": [
    {
     "data": {
      "text/plain": "<Figure size 432x288 with 1 Axes>",
      "image/png": "[encoded data removed]"
     },
     "metadata": {
      "needs_background": "light"
     },
     "output_type": "display_data"
    }
   ],
   "source": [
    "plt.plot(hist.history['loss'])\n",
    "plt.plot(hist.history['val_loss'])\n",
    "plt.title('Model loss')\n",
    "plt.ylabel('Loss')\n",
    "plt.xlabel('Epoch')\n",
    "plt.legend(['Train', 'Val'], loc='upper right')\n",
    "plt.show()"
   ],
   "metadata": {
    "collapsed": false,
    "pycharm": {
     "name": "#%%\n"
    }
   }
  },
  {
   "cell_type": "markdown",
   "source": [
    "Come possiamo vedere dal plot i dati di train sembrano ben abbinati a quelli di validation."
   ],
   "metadata": {
    "collapsed": false,
    "pycharm": {
     "name": "#%% md\n"
    }
   }
  }
 ],
 "metadata": {
  "kernelspec": {
   "display_name": "Python 3",
   "language": "python",
   "name": "python3"
  },
  "language_info": {
   "codemirror_mode": {
    "name": "ipython",
    "version": 2
   },
   "file_extension": ".py",
   "mimetype": "text/x-python",
   "name": "python",
   "nbconvert_exporter": "python",
   "pygments_lexer": "ipython2",
   "version": "2.7.6"
  }
 },
 "nbformat": 4,
 "nbformat_minor": 0
}